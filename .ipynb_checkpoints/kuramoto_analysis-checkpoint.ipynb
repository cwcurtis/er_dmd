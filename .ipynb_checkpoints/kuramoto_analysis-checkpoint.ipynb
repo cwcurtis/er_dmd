{
 "cells": [
  {
   "cell_type": "code",
   "execution_count": 8,
   "id": "44934520",
   "metadata": {},
   "outputs": [],
   "source": [
    "import dynamical_systems_routines as dsr\n",
    "import dmd_routines as dmd\n",
    "import numpy as np\n",
    "import matplotlib.pyplot as plt\n",
    "import os\n",
    "import scipy.io as sci\n",
    "\n",
    "from sympy import *\n",
    "from sympy.matrices import Matrix, eye, zeros, ones, diag\n",
    "from numpy.polynomial import Polynomial\n",
    "\n",
    "%matplotlib inline"
   ]
  },
  {
   "cell_type": "code",
   "execution_count": 2,
   "id": "01a59af2",
   "metadata": {},
   "outputs": [],
   "source": [
    "data_fname = f\"time_coeffs_small.mat\"\n",
    "if os.path.exists(data_fname):\n",
    "    time_coeffs_dict = sci.loadmat('time_coeffs_small.mat')\n",
    "    modes_dict = sci.loadmat('modes_small.mat')\n",
    "    time_coeffs = time_coeffs_dict['time_coeffs']    \n",
    "    modes = modes_dict['modes']\n",
    "    \n",
    "pdim, nsteps = np.shape(time_coeffs)\n",
    "npts, pdim = np.shape(modes)\n",
    "true_dynamics = modes @ time_coeffs"
   ]
  },
  {
   "cell_type": "code",
   "execution_count": 3,
   "id": "5361b35a",
   "metadata": {},
   "outputs": [
    {
     "name": "stdout",
     "output_type": "stream",
     "text": [
      "Current choices for lags are:\n",
      "[1, 123, 141, 158]\n",
      "Final lag choices are:\n",
      "[1, 123, 141, 158]\n"
     ]
    }
   ],
   "source": [
    "max_lag = 200\n",
    "#chosen_kmats, chosen_lags = it_dmd(max_lag, treduced[0, :].reshape(1,-1))\n",
    "#ed_model = lagged_model_cmp(treduced[0, :].reshape(1,-1), chosen_kmats, chosen_lags)\n",
    "\n",
    "chosen_kmats, chosen_lags = dmd.it_dmd(max_lag, time_coeffs)\n",
    "ed_model = dmd.lagged_model_cmp(time_coeffs, chosen_kmats, chosen_lags, max_lag)\n",
    "ed_recon = modes @ ed_model\n",
    "\n",
    "print(\"Final lag choices are:\")\n",
    "print(chosen_lags)"
   ]
  },
  {
   "cell_type": "code",
   "execution_count": 19,
   "id": "64d3f8af",
   "metadata": {},
   "outputs": [
    {
     "name": "stdout",
     "output_type": "stream",
     "text": [
      "4\n"
     ]
    }
   ],
   "source": [
    "print(158%17)\n",
    "print(157%17)\n"
   ]
  },
  {
   "cell_type": "code",
   "execution_count": 7,
   "id": "391a2104",
   "metadata": {},
   "outputs": [
    {
     "name": "stdout",
     "output_type": "stream",
     "text": [
      "(12, 48)\n",
      "[123, 141, 158]\n"
     ]
    }
   ],
   "source": [
    "print(np.shape(chosen_kmats))\n",
    "print(chosen_lags[-3:])\n",
    "red_kmats = chosen_kmats[:, -3*pdim:]\n",
    "red_lags = chosen_lags[-3:]"
   ]
  },
  {
   "cell_type": "code",
   "execution_count": 16,
   "id": "d3bb5d45",
   "metadata": {},
   "outputs": [],
   "source": [
    "k1 = red_kmats[:, 2*pdim:3*pdim]\n",
    "k2 = red_kmats[:, pdim:2*pdim]\n",
    "k3 = red_kmats[:, 0:pdim]\n",
    "\n",
    "k2 = np.linalg.solve(k1,k2)\n",
    "k3 = np.linalg.solve(k1,k3)\n",
    "\n",
    "cmat = np.zeros((2*pdim, 2*pdim))\n",
    "cmat[:pdim, pdim:] = np.eye(pdim)\n",
    "cmat[pdim:, :pdim] = -k3\n",
    "cmat[pdim:, pdim:] = -k2\n",
    "\n",
    "evals, evec = np.linalg.eig(cmat)"
   ]
  },
  {
   "cell_type": "code",
   "execution_count": 18,
   "id": "1de142e4",
   "metadata": {},
   "outputs": [
    {
     "data": {
      "text/plain": [
       "<matplotlib.collections.PathCollection at 0x7f0b5c7c51d0>"
      ]
     },
     "execution_count": 18,
     "metadata": {},
     "output_type": "execute_result"
    },
    {
     "data": {
      "image/png": "[encoded data removed]",
      "text/plain": [
       "<Figure size 640x480 with 1 Axes>"
      ]
     },
     "metadata": {},
     "output_type": "display_data"
    }
   ],
   "source": [
    "evals = evals**(1./17.)\n",
    "plt.scatter(evals.real, evals.imag)"
   ]
  },
  {
   "cell_type": "code",
   "execution_count": null,
   "id": "52937f18",
   "metadata": {},
   "outputs": [],
   "source": [
    "plt.scatter(evals.real, evals.imag, s=1., c='k')\n",
    "theta_vals = np.linspace(0., 2.*np.pi, 1000)\n",
    "plt.plot(np.cos(theta_vals), np.sin(theta_vals),c='r')\n",
    "plt.xlabel(r\"$Re(\\lambda)$\")\n",
    "plt.ylabel(r\"$Im(\\lambda)$\")\n",
    "plt.gca().set_aspect('equal')\n",
    "plt.savefig(f\"Kuramoto_spectrum_w_mx_lag_{str(chosen_lags[-1])}.\"+\"pdf\",bbox_inches='tight',format=\"pdf\")"
   ]
  },
  {
   "cell_type": "code",
   "execution_count": null,
   "id": "de626a1a",
   "metadata": {},
   "outputs": [],
   "source": [
    "all_lags = list(np.arange(1, max_lag))\n",
    "\n",
    "all_kmats = dmd.lagged_dmd_cmp(time_coeffs, all_lags)\n",
    "all_model = dmd.lagged_model_cmp(time_coeffs, all_kmats, all_lags, max_lag)\n",
    "all_recon = modes @ all_model"
   ]
  },
  {
   "cell_type": "code",
   "execution_count": null,
   "id": "38f38be4",
   "metadata": {},
   "outputs": [],
   "source": [
    "dt = .25\n",
    "thorizon = max_lag + 24\n",
    "tvals = 10. + np.linspace(0.,nsteps*dt,nsteps)\n",
    "Xmesh = np.linspace(-11., 11., npts, endpoint=False)\n",
    "\n",
    "fig = plt.figure(figsize=(8, 10))\n",
    "ax = fig.add_subplot(3, 1, 1)\n",
    "ax.pcolor(tvals[:thorizon], Xmesh, ed_recon[:,:thorizon], cmap='RdBu')\n",
    "ax.plot([tskp[max_lag], tskp[max_lag]], [-11, 10.95], c='k')\n",
    "ax.set_xlabel(r\"$t$\")\n",
    "ax.set_ylabel(r\"$x$\")\n",
    "ax.title.set_text('ERDMD Reconstruction')\n",
    "\n",
    "ax = fig.add_subplot(3, 1, 2)\n",
    "ax.pcolor(tvals[:thorizon], Xmesh, all_recon[:,:thorizon], cmap='RdBu')\n",
    "ax.plot([tskp[max_lag], tskp[max_lag]], [-11, 10.95], c='k')\n",
    "ax.set_xlabel(r\"$t$\")\n",
    "ax.set_ylabel(r\"$x$\")\n",
    "ax.title.set_text('HODMD Reconstruction')\n",
    "\n",
    "ax = fig.add_subplot(3, 1, 3)\n",
    "ax.pcolor(tvals[:thorizon], Xmesh, true_dynamics[:,:thorizon], cmap='RdBu')\n",
    "ax.plot([tskp[max_lag], tskp[max_lag]], [-11, 10.95], c='k')\n",
    "ax.set_xlabel(r\"$t$\")\n",
    "ax.set_ylabel(r\"$x$\")\n",
    "ax.title.set_text('True Dynamics')\n",
    "\n",
    "fig.tight_layout(pad=1.0)\n",
    "plt.savefig(\"KS_Dynamics_Compare\", dpi=150, bbox_inches='tight')"
   ]
  },
  {
   "cell_type": "code",
   "execution_count": null,
   "id": "fdec9924",
   "metadata": {},
   "outputs": [],
   "source": []
  }
 ],
 "metadata": {
  "kernelspec": {
   "display_name": "Python 3 (ipykernel)",
   "language": "python",
   "name": "python3"
  },
  "language_info": {
   "codemirror_mode": {
    "name": "ipython",
    "version": 3
   },
   "file_extension": ".py",
   "mimetype": "text/x-python",
   "name": "python",
   "nbconvert_exporter": "python",
   "pygments_lexer": "ipython3",
   "version": "3.11.4"
  }
 },
 "nbformat": 4,
 "nbformat_minor": 5
}
